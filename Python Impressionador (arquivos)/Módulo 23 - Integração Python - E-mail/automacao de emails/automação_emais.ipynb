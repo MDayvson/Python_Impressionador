{
 "cells": [
  {
   "cell_type": "code",
   "execution_count": 57,
   "metadata": {},
   "outputs": [
    {
     "data": {
      "text/html": [
       "<div>\n",
       "<style scoped>\n",
       "    .dataframe tbody tr th:only-of-type {\n",
       "        vertical-align: middle;\n",
       "    }\n",
       "\n",
       "    .dataframe tbody tr th {\n",
       "        vertical-align: top;\n",
       "    }\n",
       "\n",
       "    .dataframe thead th {\n",
       "        text-align: right;\n",
       "    }\n",
       "</style>\n",
       "<table border=\"1\" class=\"dataframe\">\n",
       "  <thead>\n",
       "    <tr style=\"text-align: right;\">\n",
       "      <th></th>\n",
       "      <th>Funcionario</th>\n",
       "      <th>E-mail</th>\n",
       "    </tr>\n",
       "  </thead>\n",
       "  <tbody>\n",
       "    <tr>\n",
       "      <th>0</th>\n",
       "      <td>Merari</td>\n",
       "      <td>dayvson99@hotmail.com</td>\n",
       "    </tr>\n",
       "    <tr>\n",
       "      <th>1</th>\n",
       "      <td>Dayvson</td>\n",
       "      <td>mdayvson@outlook.com</td>\n",
       "    </tr>\n",
       "  </tbody>\n",
       "</table>\n",
       "</div>"
      ],
      "text/plain": [
       "  Funcionario                 E-mail\n",
       "0      Merari  dayvson99@hotmail.com\n",
       "1     Dayvson   mdayvson@outlook.com"
      ]
     },
     "metadata": {},
     "output_type": "display_data"
    }
   ],
   "source": [
    "# Codigo para enviar E-mail\n",
    "\n",
    "import pandas as pd\n",
    "import win32com.client as win32\n",
    "outlook = win32.Dispatch('outlook.application')\n",
    "funcionarios_df = pd.read_excel('Enviar E-mails.xlsx')\n",
    "display(funcionarios_df)"
   ]
  },
  {
   "cell_type": "code",
   "execution_count": 58,
   "metadata": {},
   "outputs": [],
   "source": [
    "# Renomeia os arquivos dentro da pasta [para Contracheque - 'nome do funcionario'], lido da tabela do excel.\n",
    "\n",
    "\n",
    "import pandas as pd\n",
    "import os\n",
    "import shutil\n",
    "\n",
    "# Caminho relativo para a pasta com os arquivos de email\n",
    "pasta = r'C:\\Users\\GAMERX\\Documents\\MeusProjetos\\Python_Impressionador\\Python Impressionador (arquivos)\\Módulo 23 - Integração Python - E-mail\\automacao de emails'\n",
    "\n",
    "# Ler a planilha de Excel com pandas\n",
    "df = pd.read_excel('Enviar E-mails.xlsx')\n",
    "\n",
    "# Iterar sobre cada linha da planilha\n",
    "for index, row in df.iterrows():\n",
    "    nome_funcionario = row['Funcionario']\n",
    "    email_funcionario = row['E-mail']\n",
    "\n",
    "    # Verificar se há um arquivo com o nome do funcionário na pasta especificada\n",
    "    for arquivo in os.listdir(pasta):\n",
    "        if nome_funcionario in arquivo:\n",
    "            # Renomear o arquivo com o nome do funcionário\n",
    "            novo_nome = f'Contracheque - {nome_funcionario}.txt'\n",
    "            caminho_antigo = os.path.join(pasta, arquivo)\n",
    "            caminho_novo = os.path.join(pasta, novo_nome)\n",
    "            shutil.move(caminho_antigo, caminho_novo)\n"
   ]
  },
  {
   "cell_type": "code",
   "execution_count": 59,
   "metadata": {},
   "outputs": [],
   "source": [
    "for i, email in enumerate(funcionarios_df['E-mail']):\n",
    "    funcionario = funcionarios_df.loc[i, 'Funcionario']\n",
    "    \n",
    "    \n",
    "    mail = outlook.CreateItem(0)\n",
    "    mail.To = email\n",
    "    mail.Subject = f'Contracheque de {funcionario}'\n",
    "    mail.Body = f'''\n",
    "    Prezado {funcionario}, \n",
    "    Segue em anexo o contracheque.\n",
    "    Qualquer dúvida estou à disposição.\n",
    "    Att.,\n",
    "    '''\n",
    "    attachment  = rf'C:\\Users\\GAMERX\\Documents\\MeusProjetos\\Python_Impressionador\\Python Impressionador (arquivos)\\Módulo 23 - Integração Python - E-mail\\automacao de emails\\Contracheque - {funcionario}.txt'\n",
    "    mail.Attachments.Add(attachment)\n",
    "\n",
    "    mail.Send()"
   ]
  }
 ],
 "metadata": {
  "kernelspec": {
   "display_name": "Python 3",
   "language": "python",
   "name": "python3"
  },
  "language_info": {
   "codemirror_mode": {
    "name": "ipython",
    "version": 3
   },
   "file_extension": ".py",
   "mimetype": "text/x-python",
   "name": "python",
   "nbconvert_exporter": "python",
   "pygments_lexer": "ipython3",
   "version": "3.11.2"
  },
  "orig_nbformat": 4
 },
 "nbformat": 4,
 "nbformat_minor": 2
}
